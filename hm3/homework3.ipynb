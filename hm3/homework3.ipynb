{
 "cells": [
  {
   "cell_type": "markdown",
   "metadata": {},
   "source": [
    "# Homework 3 - Mining Data Streams\n",
    "\n",
    "*Group 6: Andrea Camilloni, Yutong Jiang*\n",
    "\n",
    "TRIEST (De Stefani et al., 2016) presents a suite of fixed memory size algorithms\n",
    "to estimate triangle counts in a streaming graph consisting of streaming edges."
   ]
  },
  {
   "cell_type": "code",
   "execution_count": 203,
   "metadata": {},
   "outputs": [],
   "source": [
    "from collections import defaultdict\n",
    "import random\n",
    "\n",
    "#link to data: https://snap.stanford.edu/data/ca-HepTh.html\n",
    "filename = 'CA-HepTh.txt'\n",
    "\n",
    "data = []\n",
    "\n",
    "with open(filename) as f:\n",
    "        for line in f:\n",
    "            if line.startswith('#'):\n",
    "                continue\n",
    "        \n",
    "            u,v = list(map(int,line.strip().split()))\n",
    "            if u!=v:\n",
    "                data.append(frozenset((u,v))) # to remove duplicates\n",
    "            #data.append((u,v))\n",
    "\n",
    "data = list(frozenset(data)) # to remove duplicates"
   ]
  },
  {
   "cell_type": "markdown",
   "metadata": {},
   "source": [
    "### 1. Reservoir sampling\n",
    "\n",
    "The reservoir sampling technique works in the following way: \n",
    "* if t ≤ M, the edge is inserted into the subgraph S, \n",
    "* otherwise, if t > M, a random edge from S is sampled with a uniform probability $M/t$ and removed from the subgraph S.\n",
    "\n",
    "The reservoir sampling technique is implemented in TRIEST-BASE by the method sampleedge().\n",
    "\n",
    "TRIEST-BASE keeps also a counter for the sampled edge, which is decreased if removed.\n",
    "The method sampleedge() returns True if the considered edge must be inserted into the subgraph, and False otherwise"
   ]
  },
  {
   "cell_type": "markdown",
   "metadata": {},
   "source": [
    "### 2. TRIEST \n",
    "TRIEST implements: \n",
    "* a global counter to estimate the global number of triangles,\n",
    "* a set of local counters to estumete the local number of triangles. \n",
    "\n",
    "For an edge $e_t = (u,v)$, the method update_counters() computes the set of common neighborhood of\n",
    "u and v in S and for each of them, updates the global and local\n",
    "counters of u, v and c (depending on the selected operator, + or -).\n",
    "\n",
    "Local counters which value is updated to 0 are popped, in order to reduce the space complexity. "
   ]
  },
  {
   "cell_type": "markdown",
   "metadata": {},
   "source": [
    "### Code implemented by Andrea"
   ]
  },
  {
   "cell_type": "markdown",
   "metadata": {},
   "source": [
    "#### Triest Base"
   ]
  },
  {
   "cell_type": "code",
   "execution_count": 204,
   "metadata": {},
   "outputs": [],
   "source": [
    "class TriestBase:\n",
    "    def __init__(self,M):\n",
    "        self.M = M # M edges to keep\n",
    "        self.t = 0 # time \n",
    "        self.tau = 0 # global counter\n",
    "        self.G = defaultdict(set) # set of neighbors\n",
    "        self.local_cnt = defaultdict(int) # local count\n",
    "        self.S = [] # edge sample\n",
    "\n",
    "    def sampleedge(self,u,v):\n",
    "        if self.t <= self.M:\n",
    "            return True\n",
    "        elif self.flip_biased_coin():\n",
    "            u_dash, v_dash = self.S.pop(random.randint(0,len(self.S)-1))\n",
    "            self.update_counters(u_dash,v_dash,'-')\n",
    "            return True\n",
    "        return False\n",
    "\n",
    "    def update_counters(self,u,v,op):\n",
    "        common_neighborhood = self.G[u].intersection(self.G[v])\n",
    "        \n",
    "        if not common_neighborhood:\n",
    "            return\n",
    "\n",
    "        for c in common_neighborhood:\n",
    "\n",
    "            if op == '+':\n",
    "                self.tau += 1\n",
    "                self.local_cnt[c] += 1\n",
    "                self.local_cnt[u] += 1\n",
    "                self.local_cnt[v] += 1\n",
    "\n",
    "            elif op == '-':\n",
    "                self.tau -= 1\n",
    "                self.local_cnt[c] -= 1\n",
    "\n",
    "                if self.local_cnt[c] == 0:\n",
    "                    self.local_cnt.pop(c)\n",
    "                \n",
    "                self.local_cnt[u] -= 1            \n",
    "                \n",
    "                if self.local_cnt[u] == 0:\n",
    "                    self.local_cnt.pop(u)\n",
    "                \n",
    "                self.local_cnt[v] -= 1\n",
    "                \n",
    "                if self.local_cnt[v] == 0:\n",
    "                    self.local_cnt.pop(v)\n",
    "\n",
    "    def flip_biased_coin(self):\n",
    "        head_prob = random.random()\n",
    "        if head_prob <= self.M/self.t:\n",
    "            return True\n",
    "        else:\n",
    "            return False\n",
    "\n",
    "    def return_counters(self):\n",
    "        estimate = max(1, (self.t * (self.t - 1) * (self.t - 2))/(self.M * (self.M - 1) * (self.M - 2)))\n",
    "\n",
    "        global_estimate = int(estimate * self.tau)\n",
    "\n",
    "        for key in self.local_cnt:\n",
    "            self.local_cnt[key] = int(self.local_cnt[key] * estimate)\n",
    "\n",
    "        return {'global':global_estimate,'local':self.local_cnt}\n",
    "\n",
    "    def run(self,u,v):\n",
    "        self.t += 1\n",
    "        if self.sampleedge(u,v):\n",
    "            self.S.append((u,v))\n",
    "            self.update_counters(u,v,'+')\n",
    "            self.G[u].add(v)\n",
    "            self.G[v].add(u)\n"
   ]
  },
  {
   "cell_type": "code",
   "execution_count": 205,
   "metadata": {},
   "outputs": [
    {
     "name": "stdout",
     "output_type": "stream",
     "text": [
      "Number of triangles in the graph:  28339\n"
     ]
    }
   ],
   "source": [
    "M = len(data)\n",
    "model = TriestBase(M)\n",
    "\n",
    "for u,v in data:\n",
    "    model.run(u,v)\n",
    "\n",
    "res = model.return_counters()\n",
    "# Number of triangles in the graph\n",
    "print('Number of triangles in the graph: ',res['global'])\n"
   ]
  },
  {
   "cell_type": "code",
   "execution_count": 206,
   "metadata": {},
   "outputs": [
    {
     "name": "stdout",
     "output_type": "stream",
     "text": [
      "Number of triangles in the graph:  28238\n"
     ]
    }
   ],
   "source": [
    "M = 15000\n",
    "model = TriestBase(M)\n",
    "\n",
    "for u,v in data:\n",
    "    model.run(u,v)\n",
    "\n",
    "res = model.return_counters()\n",
    "# Number of triangles in the graph\n",
    "print('Number of triangles in the graph: ',res['global'])"
   ]
  },
  {
   "cell_type": "code",
   "execution_count": 207,
   "metadata": {},
   "outputs": [
    {
     "name": "stdout",
     "output_type": "stream",
     "text": [
      "Number of triangles in the graph:  26672\n"
     ]
    }
   ],
   "source": [
    "M = 10000\n",
    "model = TriestBase(M)\n",
    "\n",
    "for u,v in data:\n",
    "    model.run(u,v)\n",
    "\n",
    "res = model.return_counters()\n",
    "# Number of triangles in the graph\n",
    "print('Number of triangles in the graph: ',res['global'])"
   ]
  },
  {
   "cell_type": "code",
   "execution_count": 208,
   "metadata": {},
   "outputs": [
    {
     "name": "stdout",
     "output_type": "stream",
     "text": [
      "Number of triangles in the graph:  22017\n"
     ]
    }
   ],
   "source": [
    "M = 5000\n",
    "model = TriestBase(M)\n",
    "\n",
    "for u,v in data:\n",
    "    model.run(u,v)\n",
    "\n",
    "res = model.return_counters()\n",
    "# Number of triangles in the graph\n",
    "print('Number of triangles in the graph: ',res['global'])"
   ]
  },
  {
   "cell_type": "markdown",
   "metadata": {},
   "source": [
    "TRIEST-IMPROVED, never decreases the counters, but instead it only increases them of a factor $\\eta_t$, \n",
    "\n",
    "$\\eta_t = max\\{1,\\frac{(t−1)(t−2)}{M(M −1)}\\}$"
   ]
  },
  {
   "cell_type": "markdown",
   "metadata": {},
   "source": [
    "#### Triest Improved"
   ]
  },
  {
   "cell_type": "code",
   "execution_count": 209,
   "metadata": {},
   "outputs": [],
   "source": [
    "class TriestImpr(TriestBase):\n",
    "    def __init__(self,M):\n",
    "        super().__init__(M)\n",
    "\n",
    "    def sampleedge(self,u,v):\n",
    "        if self.t <= self.M:\n",
    "            return True\n",
    "        elif self.flip_biased_coin():\n",
    "            u_dash, v_dash = self.S.pop(random.randint(0,len(self.S)-1))\n",
    "            #self.update_counters(u_dash,v_dash,'-')\n",
    "            return True\n",
    "        return False\n",
    "\n",
    "    def update_counters(self,u,v,op):\n",
    "        common_neighborhood = self.G[u].intersection(self.G[v])\n",
    "        \n",
    "        if not common_neighborhood:\n",
    "            return\n",
    "\n",
    "        for c in common_neighborhood:\n",
    "            #no decrease\n",
    "            eta = max(1, (self.t - 1) * (self.t - 2)/(self.M * (self.M - 1)))\n",
    "            self.tau += eta\n",
    "            self.local_cnt[c] += eta\n",
    "            self.local_cnt[u] += eta\n",
    "            self.local_cnt[v] += eta\n",
    "\n",
    "\n",
    "    def run(self,u,v):\n",
    "        self.t += 1\n",
    "        self.update_counters(u,v,'+')\n",
    "        if self.sampleedge(u,v):\n",
    "            self.S.append((u,v))\n",
    "            #self.update_counters(u,v,'+')\n",
    "            self.G[u].add(v)\n",
    "            self.G[v].add(u)\n",
    "    "
   ]
  },
  {
   "cell_type": "code",
   "execution_count": 210,
   "metadata": {},
   "outputs": [
    {
     "data": {
      "text/plain": [
       "28339"
      ]
     },
     "execution_count": 210,
     "metadata": {},
     "output_type": "execute_result"
    }
   ],
   "source": [
    "M = len(data)\n",
    "model = TriestImpr(M)\n",
    "\n",
    "for u,v in data:\n",
    "    model.run(u,v)\n",
    "\n",
    "res = model.return_counters()\n",
    "res['global']"
   ]
  },
  {
   "cell_type": "code",
   "execution_count": 211,
   "metadata": {},
   "outputs": [
    {
     "data": {
      "text/plain": [
       "246387"
      ]
     },
     "execution_count": 211,
     "metadata": {},
     "output_type": "execute_result"
    }
   ],
   "source": [
    "M = 15000\n",
    "model = TriestImpr(M)\n",
    "\n",
    "for u,v in data:\n",
    "    model.run(u,v)\n",
    "\n",
    "res = model.return_counters()\n",
    "res['global']"
   ]
  },
  {
   "cell_type": "code",
   "execution_count": 212,
   "metadata": {},
   "outputs": [
    {
     "data": {
      "text/plain": [
       "1375236"
      ]
     },
     "execution_count": 212,
     "metadata": {},
     "output_type": "execute_result"
    }
   ],
   "source": [
    "M = 10000\n",
    "model = TriestImpr(M)\n",
    "\n",
    "for u,v in data:\n",
    "    model.run(u,v)\n",
    "\n",
    "res = model.return_counters()\n",
    "res['global']"
   ]
  },
  {
   "cell_type": "markdown",
   "metadata": {},
   "source": [
    "### Code implemented by Yutong"
   ]
  },
  {
   "cell_type": "code",
   "execution_count": 213,
   "metadata": {},
   "outputs": [],
   "source": [
    "dataset = set()\n",
    "with open('ca-HepTh.txt') as f:\n",
    "    for idx, data in enumerate(f):\n",
    "        # There are some heads contained in the dataset\n",
    "        if idx < 4:\n",
    "            continue\n",
    "        split_data = data.strip().split()\n",
    "        # Here is to remove self-loop\n",
    "        if split_data[0] != split_data[1]:\n",
    "            # set and frozenset could remove duplicate\n",
    "            dataset.add(frozenset(split_data))\n",
    "\n",
    "dataset = list(dataset)"
   ]
  },
  {
   "cell_type": "markdown",
   "metadata": {},
   "source": [
    "#### Triest Base"
   ]
  },
  {
   "cell_type": "code",
   "execution_count": 214,
   "metadata": {},
   "outputs": [],
   "source": [
    "from collections import defaultdict\n",
    "import random\n",
    "\n",
    "class triest_base():\n",
    "    def __init__(self, M):\n",
    "        # M stands for the maximum edge sample\n",
    "        # t stands for the time point\n",
    "        # tau stands for the total global triangles count\n",
    "        # G stands for the graph\n",
    "        # localtri stands for the local count\n",
    "        # S stands for the edge\n",
    "        self.M = M\n",
    "        self.t = 0\n",
    "        self.tau = 0\n",
    "        self.G = defaultdict(set)\n",
    "        self.local_cnt = defaultdict(int)\n",
    "        self.S = []\n",
    "\n",
    "    def sampleedge(self):\n",
    "        ''' \n",
    "        Here is the implementation of reservoir\n",
    "        type of edge should be set\n",
    "        '''\n",
    "        if self.t <= self.M:\n",
    "            return True\n",
    "        elif random.random() <= self.M/self.t:\n",
    "            chosen_idx = random.randint(0, self.M - 1)\n",
    "\n",
    "            # the edge in S and node in graph should be removed\n",
    "            # remove edge\n",
    "            removed_edge = self.S.pop(chosen_idx)\n",
    "            # remove node\n",
    "            u, v = removed_edge\n",
    "            self.G[u].remove(v)\n",
    "            self.G[v].remove(u)\n",
    "\n",
    "            self.updatecounters('sub', removed_edge)\n",
    "            return True\n",
    "        return False\n",
    "    \n",
    "    def updatecounters(self, operation, operated_edge):\n",
    "        u, v = operated_edge\n",
    "        N_Su = self.G[u]\n",
    "        N_Sv = self.G[v]\n",
    "        inter_node = N_Su & N_Sv\n",
    "\n",
    "        for c in inter_node:\n",
    "            if operation == 'add':\n",
    "                self.tau += 1\n",
    "                self.local_cnt[c] += 1\n",
    "                self.local_cnt[u] += 1\n",
    "                self.local_cnt[v] += 1\n",
    "            else:\n",
    "                self.tau -= 1\n",
    "                self.local_cnt[c] += 1\n",
    "                self.local_cnt[u] -= 1\n",
    "                self.local_cnt[v] -= 1\n",
    "        # print(self.local_cnt)\n",
    "        \n",
    "    def find_eps(self):\n",
    "        eps = max(1, (self.t * (self.t - 1) * (self.t - 2)/(self.M * (self.M - 1) * (self.M - 2))))\n",
    "        return eps\n",
    "    \n",
    "    def forward(self, dataset):\n",
    "        for data in dataset:\n",
    "            self.t += 1\n",
    "            if self.sampleedge():\n",
    "                self.S.append(data)\n",
    "                u, v = data\n",
    "                self.G[u].add(v)\n",
    "                self.G[v].add(u)\n",
    "                self.updatecounters('add', data)\n",
    "        eps = self.find_eps()\n",
    "        estimator = eps * self.tau\n",
    "        return int(estimator), self.tau, self.local_cnt"
   ]
  },
  {
   "cell_type": "code",
   "execution_count": 215,
   "metadata": {},
   "outputs": [
    {
     "data": {
      "text/plain": [
       "28339"
      ]
     },
     "execution_count": 215,
     "metadata": {},
     "output_type": "execute_result"
    }
   ],
   "source": [
    "M = len(dataset)\n",
    "estimator, global_cnt, local_dict = triest_base(M).forward(dataset)\n",
    "estimator"
   ]
  },
  {
   "cell_type": "code",
   "execution_count": 216,
   "metadata": {},
   "outputs": [
    {
     "data": {
      "text/plain": [
       "28140"
      ]
     },
     "execution_count": 216,
     "metadata": {},
     "output_type": "execute_result"
    }
   ],
   "source": [
    "M = 15000\n",
    "estimator, global_cnt, local_dict = triest_base(M).forward(dataset)\n",
    "estimator"
   ]
  },
  {
   "cell_type": "code",
   "execution_count": 217,
   "metadata": {},
   "outputs": [
    {
     "data": {
      "text/plain": [
       "30702"
      ]
     },
     "execution_count": 217,
     "metadata": {},
     "output_type": "execute_result"
    }
   ],
   "source": [
    "M = 10000\n",
    "estimator, global_cnt, local_dict = triest_base(M).forward(dataset)\n",
    "estimator"
   ]
  },
  {
   "cell_type": "code",
   "execution_count": 218,
   "metadata": {},
   "outputs": [
    {
     "data": {
      "text/plain": [
       "23700"
      ]
     },
     "execution_count": 218,
     "metadata": {},
     "output_type": "execute_result"
    }
   ],
   "source": [
    "M = 5000\n",
    "estimator, global_cnt, local_dict = triest_base(M).forward(dataset)\n",
    "estimator"
   ]
  },
  {
   "cell_type": "markdown",
   "metadata": {},
   "source": [
    "#### Triest improved"
   ]
  },
  {
   "cell_type": "code",
   "execution_count": 219,
   "metadata": {},
   "outputs": [],
   "source": [
    "from collections import defaultdict\n",
    "import random\n",
    "\n",
    "class triest_impr():\n",
    "    def __init__(self, M):\n",
    "        # M stands for the maximum edge sample\n",
    "        # t stands for the time point\n",
    "        # tau stands for the total global triangles count\n",
    "        # G stands for the graph\n",
    "        # localtri stands for the local count\n",
    "        # S stands for the edge\n",
    "        self.M = M\n",
    "        self.t = 0\n",
    "        self.tau = 0\n",
    "        self.G = defaultdict(set)\n",
    "        self.local_cnt = defaultdict(int)\n",
    "        self.S = []\n",
    "\n",
    "    def sampleedge(self):\n",
    "        ''' \n",
    "        Here is the implementation of reservoir\n",
    "        type of edge should be set\n",
    "        '''\n",
    "        if self.t <= self.M:\n",
    "            return True\n",
    "        elif random.random() <= self.M/self.t:\n",
    "            chosen_idx = random.randint(0, self.M - 1)\n",
    "\n",
    "            # the edge in S and node in graph should be removed\n",
    "            # remove edge\n",
    "            removed_edge = self.S.pop(chosen_idx)\n",
    "            # remove node\n",
    "            u, v = removed_edge\n",
    "            self.G[u].remove(v)\n",
    "            self.G[v].remove(u)\n",
    "\n",
    "            # This update has been removed\n",
    "            #self.updatecounters('sub', removed_edge)\n",
    "            return True\n",
    "        return False\n",
    "    \n",
    "    def updatecounters(self, operation, operated_edge):\n",
    "        u, v = operated_edge\n",
    "        N_Su = self.G[u]\n",
    "        N_Sv = self.G[v]\n",
    "        inter_node = N_Su & N_Sv\n",
    "\n",
    "        eta = max(1, (self.t - 1)*(self.t - 2)/(self.M * (self.M - 1)))\n",
    "        for c in inter_node:\n",
    "            #if operation == 'add':\n",
    "            self.tau += eta\n",
    "            self.local_cnt[c] += eta\n",
    "            self.local_cnt[u] += eta\n",
    "            self.local_cnt[v] += eta\n",
    "            #else:\n",
    "                # As there is no substract anymore, so this part has no effect in improved algorithm\n",
    "                #self.tau -= eta\n",
    "                #self.local_cnt[c] += eta\n",
    "                #self.local_cnt[u] -= eta\n",
    "                #self.local_cnt[v] -= eta\n",
    "        # print(self.local_cnt)\n",
    "        \n",
    "    def find_eps(self):\n",
    "        eps = max(1, (self.t * (self.t - 1) * (self.t - 2)/(self.M * (self.M - 1) * (self.M - 2))))\n",
    "        return eps\n",
    "     \n",
    "    def forward(self, dataset):\n",
    "        for data in dataset:\n",
    "            self.t += 1\n",
    "            if self.sampleedge():\n",
    "                self.S.append(data)\n",
    "                u, v = data\n",
    "                self.G[u].add(v)\n",
    "                self.G[v].add(u)\n",
    "                self.updatecounters('add', data)\n",
    "        eps = self.find_eps()\n",
    "        estimator = eps * self.tau\n",
    "        return int(estimator), self.tau, self.local_cnt"
   ]
  },
  {
   "cell_type": "code",
   "execution_count": 220,
   "metadata": {},
   "outputs": [
    {
     "data": {
      "text/plain": [
       "28339"
      ]
     },
     "execution_count": 220,
     "metadata": {},
     "output_type": "execute_result"
    }
   ],
   "source": [
    "M = len(dataset)\n",
    "estimator, global_cnt, local_dict = triest_impr(M).forward(dataset)\n",
    "estimator"
   ]
  },
  {
   "cell_type": "markdown",
   "metadata": {},
   "source": [
    "### 3.Bonus part"
   ]
  },
  {
   "cell_type": "markdown",
   "metadata": {},
   "source": [
    "* What were the challenges you faced when implementing the algorithm?\n",
    "\n",
    "    The main challenge faced was to re-implement suitable data structures for the algorithm. Implementing the algorithm was not that hard since we had just to follow the steps presented in the work of De Stefani et al.. \n",
    "    \n",
    "\n",
    "* Can the algorithm be easily parallelized? If yes, how? If not, why? Explain.\n",
    "\n",
    "    Implementing data parallelism would require to keep counters synchronized between each node as each count depends on the previsous samples, but this would be unfeasible. \n",
    "\n",
    "* Does the algorithm work for unbounded graph streams? Explain.\n",
    "\n",
    "    The algorithm works on unbounded data streams since it's keeping a fixed memory footprint M. Keeping a fixed memory M avoids memory issues, i.e. running out of memory. And by setting a threshold on t, we could terminate the program and return the estimations based on the previsous samples. \n",
    "\n",
    "* Does the algorithm support edge deletions? If not, what modification would it need? Explain.\n",
    "\n",
    "    Both the TRIÈST algorithms don't support edge deletions, but in (De Stefani et al., 2016) they presented a version of TRIÈST working with both insertions and deletions of edges. TRIÈST-FD is a fully-dynamic version of TRIÈST, which relies on the concept of Random Pairing (RP). \n",
    "    The idea is that edge deletions will be compensated by\n",
    "    further edge insertions seen later in the stream. The way it keeps track\n",
    "    is by having 2 additional counters $d_i$ and $d_o$ to keep track of uncompensated edge deletions.\n"
   ]
  },
  {
   "cell_type": "markdown",
   "metadata": {},
   "source": [
    "### Reference\n",
    "\n",
    "De Stefani, A. Epasto, M. Riondato, and E. Upfal. TRIEST: Counting `\n",
    "local and global triangles in fully-dynamic streams with fixed memory size.\n",
    "pages 825–834, 08 2016."
   ]
  }
 ],
 "metadata": {
  "kernelspec": {
   "display_name": "Python 3.8.8 ('base')",
   "language": "python",
   "name": "python3"
  },
  "language_info": {
   "codemirror_mode": {
    "name": "ipython",
    "version": 3
   },
   "file_extension": ".py",
   "mimetype": "text/x-python",
   "name": "python",
   "nbconvert_exporter": "python",
   "pygments_lexer": "ipython3",
   "version": "3.8.8"
  },
  "orig_nbformat": 4,
  "vscode": {
   "interpreter": {
    "hash": "2292700e8771b348a92a71bf0194b9377c8133f5934830b6f0e18297529c0998"
   }
  }
 },
 "nbformat": 4,
 "nbformat_minor": 2
}
