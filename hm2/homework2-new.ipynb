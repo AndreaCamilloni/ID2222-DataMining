{
 "cells": [
  {
   "cell_type": "markdown",
   "metadata": {},
   "source": [
    "# Discovery of Frequent Itemsets and Association Rules"
   ]
  },
  {
   "cell_type": "code",
   "execution_count": 2,
   "metadata": {},
   "outputs": [],
   "source": [
    "import pandas as pd\n",
    "from collections import defaultdict\n",
    "from itertools import permutations"
   ]
  },
  {
   "cell_type": "code",
   "execution_count": 3,
   "metadata": {},
   "outputs": [],
   "source": [
    "def read_data(path):\n",
    "    '''\n",
    "    Here is the code to read .dat file\n",
    "    '''\n",
    "    baskets = []\n",
    "    with open(path) as f:\n",
    "        for line in f:\n",
    "            basket = line.strip().split()\n",
    "            baskets.append(set(basket)) # set is used to remove duplicates\n",
    "    return baskets #list of sets"
   ]
  },
  {
   "cell_type": "markdown",
   "metadata": {},
   "source": [
    "## 1. Finding frequent itemsets with support at least s"
   ]
  },
  {
   "cell_type": "markdown",
   "metadata": {},
   "source": [
    "Given a large set of items $I=\\{i_1,i_2, \\dots i_N\\}$ and a set of baskets $T=\\{t_1,t_2, \\dots t_n \\}$, such that $t_j \\subset I$, we can define:\n",
    "* $X$ itemset, $X \\subset I$ \n",
    "* $X$ k-itemset, $X \\subset I$ such that $|X|=k$\n",
    "* $X \\rightarrow Y$ association rule, with $X,Y \\subset I$ and $X \\cap Y = \\emptyset$"
   ]
  },
  {
   "cell_type": "markdown",
   "metadata": {},
   "source": [
    "A frequent itemset $X$ is a set of items appearing in at least $s$ baskets. \n",
    "\n",
    "Support $s$ for an itemset $I$ is the number of baskets containing all items in I."
   ]
  },
  {
   "cell_type": "markdown",
   "metadata": {},
   "source": [
    "### A-Priori algorithm\n",
    "\n",
    "* **Step 1:** Read baskets and count the occurences of each individual items. Find the frequent itemset, i.e. items appearing at least $s$ times.\n",
    "  * Input: Baskets $T$ and support $s$. (e.g $s=1\\%$ total number of baskets)\n",
    "  * Output: Frquent items (Singletons such that $count(singleton)\\geq s$)\n",
    "* **Step 2:** Read baskets again and count only those candidates which elements are frequent. Repeat this step until no more candidates are found.\n",
    "  * Input: Baskets $T$, frequent candidates and support $s$.\n",
    "  * Output: Frequent pairs.\n",
    "* **REPEAT Step 2** until no more candidates are generated."
   ]
  },
  {
   "cell_type": "code",
   "execution_count": 4,
   "metadata": {},
   "outputs": [],
   "source": [
    "def find_single_cand(baskets, support):\n",
    "    ''' \n",
    "    Here is the code to find the frequency of single items\n",
    "    it should be ran initially\n",
    "    baskets is the data obtained from read_data\n",
    "    support stands for the threshold\n",
    "    '''\n",
    "    # Here is the code to calculate the frequency of each singleton\n",
    "    res_dict = defaultdict(int)\n",
    "    freq_dict = []\n",
    "    for basket in baskets:\n",
    "        for item in basket:\n",
    "            res_dict[item] += 1\n",
    "    \n",
    "    #Here is the code to find the frequenct items\n",
    "    for key, value in res_dict.items():\n",
    "        if value >= support:\n",
    "            freq_dict.append({key}) #list of sets\n",
    "\n",
    "    return res_dict, freq_dict"
   ]
  },
  {
   "cell_type": "code",
   "execution_count": 5,
   "metadata": {},
   "outputs": [],
   "source": [
    "def find_freq_items(baskets, prev_cand, support):\n",
    "    ''' \n",
    "    Here is the code to find the frequent length >= 2 pairs\n",
    "    '''\n",
    "\n",
    "    #prev_cand = [set(cand) for cand in prev_cand]\n",
    "\n",
    "    freq_dict = defaultdict(int)\n",
    "    res_dict = {}\n",
    "    final_candidate = []\n",
    "    final_count = {}\n",
    "\n",
    "    # the candidate is generated from singleton in each basket and prev_cand\n",
    "    for basket in baskets:\n",
    "        for cand in prev_cand:\n",
    "            if cand.issubset(basket): # check if the candidate is in the basket\n",
    "                for item in basket:\n",
    "                    if item not in cand:\n",
    "                        freq_dict[tuple(cand) + tuple({item})] += 1 # count the frequency of each candidate\n",
    "\n",
    "    #Here is to find the candidate which frequency is greater than support\n",
    "    for key, value in freq_dict.items():\n",
    "        if value >= support:\n",
    "            res_dict[key] = value\n",
    "    \n",
    "    # Here is the code to remove redundancy\n",
    "    for item in res_dict:\n",
    "        if set(item) not in final_candidate:\n",
    "            final_candidate.append(set(item))\n",
    "            final_count[tuple(set(item))] = res_dict[item]\n",
    "\n",
    "    return final_count, final_candidate"
   ]
  },
  {
   "cell_type": "markdown",
   "metadata": {},
   "source": [
    "**Note:** The 2 functions are also returning the counts of the items."
   ]
  },
  {
   "cell_type": "markdown",
   "metadata": {},
   "source": [
    "#### Results"
   ]
  },
  {
   "cell_type": "markdown",
   "metadata": {},
   "source": [
    "* Support threshold $s=1000$, i.e. $1\\%$ of the total number of baskets."
   ]
  },
  {
   "cell_type": "code",
   "execution_count": 6,
   "metadata": {},
   "outputs": [],
   "source": [
    "support = 1000\n",
    "baskets = read_data('T10I4D100K.dat')\n",
    "_, freq_cand_1 = find_single_cand(baskets, support)\n",
    "#freq_dict_1 = find_freq_items(baskets, )\n",
    "freq_count_2, freq_cand_2 = find_freq_items(baskets, freq_cand_1, support)\n",
    "freq_count_3, freq_cand_3 = find_freq_items(baskets, freq_cand_2, support)"
   ]
  },
  {
   "cell_type": "code",
   "execution_count": 7,
   "metadata": {},
   "outputs": [
    {
     "data": {
      "text/plain": [
       "375"
      ]
     },
     "execution_count": 7,
     "metadata": {},
     "output_type": "execute_result"
    }
   ],
   "source": [
    "len(freq_cand_1)"
   ]
  },
  {
   "cell_type": "markdown",
   "metadata": {},
   "source": [
    "Frequent pairs:"
   ]
  },
  {
   "cell_type": "code",
   "execution_count": 8,
   "metadata": {},
   "outputs": [
    {
     "data": {
      "text/plain": [
       "[{'39', '825'},\n",
       " {'704', '825'},\n",
       " {'39', '704'},\n",
       " {'227', '390'},\n",
       " {'789', '829'},\n",
       " {'368', '829'},\n",
       " {'217', '346'},\n",
       " {'368', '682'},\n",
       " {'390', '722'}]"
      ]
     },
     "execution_count": 8,
     "metadata": {},
     "output_type": "execute_result"
    }
   ],
   "source": [
    "freq_cand_2"
   ]
  },
  {
   "cell_type": "markdown",
   "metadata": {},
   "source": [
    "Frequent triplet:"
   ]
  },
  {
   "cell_type": "code",
   "execution_count": 9,
   "metadata": {},
   "outputs": [
    {
     "data": {
      "text/plain": [
       "[{'39', '704', '825'}]"
      ]
     },
     "execution_count": 9,
     "metadata": {},
     "output_type": "execute_result"
    }
   ],
   "source": [
    "freq_cand_3"
   ]
  },
  {
   "cell_type": "markdown",
   "metadata": {},
   "source": [
    "No more candidates are generated. Quadrupletes with support at least $s$ don't exist."
   ]
  },
  {
   "cell_type": "code",
   "execution_count": 10,
   "metadata": {},
   "outputs": [
    {
     "data": {
      "text/plain": [
       "[]"
      ]
     },
     "execution_count": 10,
     "metadata": {},
     "output_type": "execute_result"
    }
   ],
   "source": [
    "freq_count_4, freq_cand_4 = find_freq_items(baskets, freq_cand_3, support)\n",
    "freq_cand_4"
   ]
  },
  {
   "cell_type": "markdown",
   "metadata": {},
   "source": [
    "## Association rules"
   ]
  },
  {
   "cell_type": "markdown",
   "metadata": {},
   "source": [
    "Given $X,Y \\subset I$ with $X \\cap Y = \\emptyset$, $X \\rightarrow Y$ is an association rule.\n",
    "\n",
    "We define the confidence of an association rule $X \\rightarrow Y$ as follows,  $conf(X \\rightarrow Y) = \\frac{support(X \\cup Y)}{support(X)}$ .\n",
    "\n",
    "**Obs:** The higher the confidence the higher is the correlation between $X$ and $Y$."
   ]
  },
  {
   "cell_type": "code",
   "execution_count": 11,
   "metadata": {},
   "outputs": [],
   "source": [
    "def cal_conf(association_X, association_Y, baskets):\n",
    "    '''\n",
    "    Here is the function to calculate confidence\n",
    "    baskets, association_X, association_Y is tuple and it should be converted to set\n",
    "    '''\n",
    "    association_X = set(association_X)\n",
    "    association_Y = set(association_Y)\n",
    "    cnt_I = 0\n",
    "    cnt_I_J = 0\n",
    "    for basket in baskets:\n",
    "        if association_X.issubset(basket):\n",
    "            cnt_I += 1\n",
    "        if association_X.union(association_Y).issubset(basket):\n",
    "            cnt_I_J += 1\n",
    "    return cnt_I_J/cnt_I\n",
    "\n",
    "def find_association_rules(candidates, threshold, baskets):\n",
    "    ''' \n",
    "    Here is the function to find association rules\n",
    "    '''\n",
    "    res_pairs = []\n",
    "    for candidate in candidates:\n",
    "        # association_X_list is used to remove redundancy\n",
    "        association_X_list = []\n",
    "        #permutation is to find all combinations of candidate\n",
    "        for cand_comb in permutations(candidate):\n",
    "            #pos stands for position\n",
    "            for pos in range(1, len(cand_comb)):\n",
    "                res_pair = []\n",
    "                association_X = cand_comb[:pos]\n",
    "                association_Y = cand_comb[pos:]\n",
    "                #make sure there is no duplicate\n",
    "                if tuple(set(association_X)) not in association_X_list:\n",
    "                    res_pair.append(association_X)\n",
    "                    res_pair.append(association_Y)\n",
    "                    association_X_list.append(tuple(set(association_X)))\n",
    "                    #find the confidence greater than threshold\n",
    "                    if cal_conf(association_X, association_Y, baskets) >= threshold:\n",
    "                        res_pair.append(cal_conf(association_X, association_Y, baskets))\n",
    "                        res_pairs.append(res_pair)\n",
    "    \n",
    "    return res_pairs"
   ]
  },
  {
   "cell_type": "markdown",
   "metadata": {},
   "source": [
    "#### Results\n",
    "\n",
    "Only association rules with a confidence greater than or equal to a threshold $t$ must be considered. "
   ]
  },
  {
   "cell_type": "markdown",
   "metadata": {},
   "source": [
    "* Support $s=1000$\n",
    "* Confidence threshold $t=0.5$"
   ]
  },
  {
   "cell_type": "code",
   "execution_count": 12,
   "metadata": {},
   "outputs": [],
   "source": [
    "support = 1000\n",
    "baskets = read_data('T10I4D100K.dat')\n",
    "_, freq_cand_1 = find_single_cand(baskets, support)\n",
    "freq_count_2, freq_cand_2 = find_freq_items(baskets, freq_cand_1, support)\n",
    "res_pairs_2 = find_association_rules(freq_cand_2, 0.5, baskets)\n",
    "freq_count_3, freq_cand_3 = find_freq_items(baskets, freq_cand_2, support)\n",
    "res_pairs_3 = find_association_rules(freq_cand_3, 0.5, baskets)"
   ]
  },
  {
   "cell_type": "markdown",
   "metadata": {},
   "source": [
    "Association rules between 2 items $i_i \\rightarrow i_j$, where $i_i$, $i_j$ $\\in I$ and $i_i \\neq i_j$"
   ]
  },
  {
   "cell_type": "code",
   "execution_count": 13,
   "metadata": {},
   "outputs": [
    {
     "data": {
      "text/plain": [
       "[[('704',), ('825',), 0.6142697881828316],\n",
       " [('704',), ('39',), 0.617056856187291],\n",
       " [('227',), ('390',), 0.577007700770077]]"
      ]
     },
     "execution_count": 13,
     "metadata": {},
     "output_type": "execute_result"
    }
   ],
   "source": [
    "res_pairs_2"
   ]
  },
  {
   "cell_type": "markdown",
   "metadata": {},
   "source": [
    "Association rules between 3 items $(i_i,i_j) \\rightarrow i_k$ or $(i_i) \\rightarrow (i_j, i_k)$, where $i_i$, $i_j$, $i_k$ $\\in I$ and $i_i \\neq i_j$, $i_i \\neq i_k$, $i_j \\neq i_k$, "
   ]
  },
  {
   "cell_type": "code",
   "execution_count": 14,
   "metadata": {},
   "outputs": [
    {
     "data": {
      "text/plain": [
       "[[('825', '39'), ('704',), 0.8719460825610783],\n",
       " [('825', '704'), ('39',), 0.9392014519056261],\n",
       " [('39', '704'), ('825',), 0.9349593495934959],\n",
       " [('704',), ('825', '39'), 0.5769230769230769]]"
      ]
     },
     "execution_count": 14,
     "metadata": {},
     "output_type": "execute_result"
    }
   ],
   "source": [
    "res_pairs_3"
   ]
  }
 ],
 "metadata": {
  "kernelspec": {
   "display_name": "Python 3.8.6 64-bit",
   "language": "python",
   "name": "python3"
  },
  "language_info": {
   "codemirror_mode": {
    "name": "ipython",
    "version": 3
   },
   "file_extension": ".py",
   "mimetype": "text/x-python",
   "name": "python",
   "nbconvert_exporter": "python",
   "pygments_lexer": "ipython3",
   "version": "3.8.6"
  },
  "orig_nbformat": 4,
  "vscode": {
   "interpreter": {
    "hash": "3a4fd3c0dcbc658b189fbf5814096262f6268a6dc22fca0ed725de03044a0d6b"
   }
  }
 },
 "nbformat": 4,
 "nbformat_minor": 2
}
